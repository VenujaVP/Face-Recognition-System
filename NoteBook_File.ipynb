{
 "cells": [
  {
   "cell_type": "code",
   "execution_count": null,
   "id": "378a736e-4d40-451c-a4ac-2a5e14b63d3c",
   "metadata": {},
   "outputs": [],
   "source": [
    "# !pip install face_recognition\n",
    "# !pip install opencv-python"
   ]
  },
  {
   "cell_type": "code",
   "execution_count": null,
   "id": "56f0af94-7668-4bdb-bcdb-db0b1aa2a364",
   "metadata": {
    "editable": true,
    "slideshow": {
     "slide_type": ""
    },
    "tags": []
   },
   "outputs": [],
   "source": [
    "import cv2  # For computer vision tasks, such as capturing and processing images and video\n",
    "import face_recognition  # For face detection and face recognition\n",
    "import os  # For interacting with the operating system, such as file and directory management\n",
    "import pickle  # For saving and loading Python objects like models and data"
   ]
  },
  {
   "cell_type": "markdown",
   "id": "5b65fc1b-f1c4-48f6-9091-a5972382eea9",
   "metadata": {},
   "source": [
    "<h2 style='color:blue' align='center'>Function to register a new member</h2>"
   ]
  },
  {
   "cell_type": "code",
   "execution_count": null,
   "id": "58f525af-95d6-4152-aa5a-b200e50d2e28",
   "metadata": {},
   "outputs": [],
   "source": [
    "import cv2\n",
    "import face_recognition\n",
    "import os\n",
    "import pickle\n",
    "\n",
    "def register_new_member(name, age, id_number):\n",
    "    # Create a folder for the new member\n",
    "    member_folder = f\"members/{name}\"\n",
    "    os.makedirs(member_folder, exist_ok=True)\n",
    "    \n",
    "    # Save the member details\n",
    "    with open(os.path.join(member_folder, \"details.txt\"), \"w\") as f:\n",
    "        f.write(f\"Name: {name}\\nAge: {age}\\nID: {id_number}\\n\")\n",
    "    \n",
    "    # Capture the face\n",
    "    cap = cv2.VideoCapture(0)\n",
    "    print(\"Capturing face... Press 's' to capture\")\n",
    "    \n",
    "    while True:\n",
    "        ret, frame = cap.read()\n",
    "        cv2.imshow(\"Capture Face\", frame)\n",
    "        \n",
    "        if cv2.waitKey(1) & 0xFF == ord('s'):\n",
    "            face_locations = face_recognition.face_locations(frame)\n",
    "            \n",
    "            if face_locations:\n",
    "                face_encoding = face_recognition.face_encodings(frame, face_locations)[0]\n",
    "                \n",
    "                # Save the face encoding\n",
    "                with open(os.path.join(member_folder, \"face_encoding.pkl\"), \"wb\") as f:\n",
    "                    pickle.dump(face_encoding, f)\n",
    "                \n",
    "                print(\"Face captured and details saved.\")\n",
    "                break\n",
    "            else:\n",
    "                print(\"No face detected. Try again.\")\n",
    "    \n",
    "    cap.release()\n",
    "    cv2.destroyAllWindows()\n",
    "\n",
    "# Input from users\n",
    "name = input(\"Enter name: \")\n",
    "age = input(\"Enter age: \")\n",
    "id_number = input(\"Enter ID number: \")\n",
    "register_new_member(name, age, id_number)\n"
   ]
  },
  {
   "cell_type": "markdown",
   "id": "d5c5fb4e-575c-4082-9883-a0d5e1521966",
   "metadata": {},
   "source": [
    "<h2 style='color:blue' align='center'>Function to detected and identify face</h2>"
   ]
  },
  {
   "cell_type": "code",
   "execution_count": null,
   "id": "ad50c37b-ea09-475a-a3d5-64aa53e08871",
   "metadata": {},
   "outputs": [],
   "source": [
    "import cv2\n",
    "import face_recognition\n",
    "import os\n",
    "import pickle\n",
    "\n",
    "# Function to recognize and verify faces\n",
    "def recognize_faces():\n",
    "    known_faces = []\n",
    "    known_details = []\n",
    "\n",
    "    # Load all face encodings and details\n",
    "    for member in os.listdir(\"members\"):\n",
    "        member_folder = os.path.join(\"members\", member)\n",
    "        if os.path.isdir(member_folder):\n",
    "            encoding_path = os.path.join(member_folder, \"face_encoding.pkl\")\n",
    "            details_path = os.path.join(member_folder, \"details.txt\")\n",
    "            if os.path.exists(encoding_path) and os.path.exists(details_path):\n",
    "                with open(encoding_path, \"rb\") as f:\n",
    "                    known_faces.append(pickle.load(f))\n",
    "                with open(details_path, \"r\") as f:\n",
    "                    known_details.append(f.read())\n",
    "\n",
    "    # Capture video\n",
    "    cap = cv2.VideoCapture(0)\n",
    "    print(\"Detecting face... Press 'q' to quit\")\n",
    "\n",
    "    while True:\n",
    "        ret, frame = cap.read()\n",
    "        face_locations = face_recognition.face_locations(frame)\n",
    "        face_encodings = face_recognition.face_encodings(frame, face_locations)\n",
    "\n",
    "        for face_encoding, face_location in zip(face_encodings, face_locations):\n",
    "            matches = face_recognition.compare_faces(known_faces, face_encoding)\n",
    "            name = \"Unknown\"\n",
    "            details = \"\"\n",
    "\n",
    "            if True in matches:\n",
    "                match_index = matches.index(True)\n",
    "                name = known_details[match_index].split('\\n')[0].split(': ')[1]\n",
    "                details = known_details[match_index]\n",
    "\n",
    "            top, right, bottom, left = face_location\n",
    "            cv2.rectangle(frame, (left, top), (right, bottom), (0, 0, 255), 2)\n",
    "            cv2.putText(frame, name, (left + 6, bottom + 25), cv2.FONT_HERSHEY_SIMPLEX, 0.7, (255, 0, 0), 2)\n",
    "            cv2.putText(frame, details, (left + 6, bottom + 45), cv2.FONT_HERSHEY_SIMPLEX, 0.5, (255, 255, 255), 1)\n",
    "\n",
    "        cv2.imshow(\"Face Recognition\", frame)\n",
    "        \n",
    "        if cv2.waitKey(1) & 0xFF == ord('q'):\n",
    "            break\n",
    "\n",
    "    cap.release()\n",
    "    cv2.destroyAllWindows()\n",
    "\n",
    "recognize_faces()\n"
   ]
  },
  {
   "cell_type": "code",
   "execution_count": null,
   "id": "2794bbaa-5b68-4032-b30b-341a5f3169aa",
   "metadata": {},
   "outputs": [],
   "source": []
  }
 ],
 "metadata": {
  "kernelspec": {
   "display_name": "Python 3 (ipykernel)",
   "language": "python",
   "name": "python3"
  },
  "language_info": {
   "codemirror_mode": {
    "name": "ipython",
    "version": 3
   },
   "file_extension": ".py",
   "mimetype": "text/x-python",
   "name": "python",
   "nbconvert_exporter": "python",
   "pygments_lexer": "ipython3",
   "version": "3.12.4"
  }
 },
 "nbformat": 4,
 "nbformat_minor": 5
}
